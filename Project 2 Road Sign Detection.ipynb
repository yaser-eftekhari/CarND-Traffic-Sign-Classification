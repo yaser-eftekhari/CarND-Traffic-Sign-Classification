{
 "cells": [
  {
   "cell_type": "markdown",
   "metadata": {},
   "source": [
    "# Project: Build a Traffic Sign Recognition Classifier"
   ]
  },
  {
   "cell_type": "markdown",
   "metadata": {},
   "source": [
    "## Step 0: Load The Data"
   ]
  },
  {
   "cell_type": "code",
   "execution_count": 1,
   "metadata": {
    "collapsed": true
   },
   "outputs": [],
   "source": [
    "# Load pickled data\n",
    "import pickle\n",
    "\n",
    "training_file = \"traffic-signs-data/train.p\"\n",
    "testing_file = \"traffic-signs-data/test.p\"\n",
    "\n",
    "with open(training_file, mode='rb') as f:\n",
    "    train = pickle.load(f)\n",
    "with open(testing_file, mode='rb') as f:\n",
    "    test = pickle.load(f)\n",
    "    \n",
    "X_train, y_train = train['features'], train['labels']\n",
    "X_test, y_test = test['features'], test['labels']"
   ]
  },
  {
   "cell_type": "markdown",
   "metadata": {},
   "source": [
    "## Step 1: Dataset Summary & Exploration"
   ]
  },
  {
   "cell_type": "code",
   "execution_count": 2,
   "metadata": {
    "collapsed": false
   },
   "outputs": [
    {
     "name": "stdout",
     "output_type": "stream",
     "text": [
      "Number of training examples = 39209\n",
      "Number of testing examples = 12630\n",
      "Image data shape = (32, 32, 3)\n",
      "Number of classes = 43\n"
     ]
    }
   ],
   "source": [
    "# Number of training examples\n",
    "n_train = len(X_train)\n",
    "\n",
    "# Number of testing examples.\n",
    "n_test = len(X_test)\n",
    "\n",
    "# What's the shape of a traffic sign image?\n",
    "image_shape = X_train[0].shape\n",
    "\n",
    "# Number of unique classes/labels in the dataset\n",
    "n_classes = max(y_train) - min(y_train) + 1\n",
    "\n",
    "print(\"Number of training examples =\", n_train)\n",
    "print(\"Number of testing examples =\", n_test)\n",
    "print(\"Image data shape =\", image_shape)\n",
    "print(\"Number of classes =\", n_classes)"
   ]
  },
  {
   "cell_type": "code",
   "execution_count": 3,
   "metadata": {
    "collapsed": false
   },
   "outputs": [
    {
     "name": "stdout",
     "output_type": "stream",
     "text": [
      "Histogram of available training road signs\n"
     ]
    },
    {
     "data": {
      "image/png": "[encoded data removed]",
      "text/plain": [
       "<matplotlib.figure.Figure at 0x10ebe0fd0>"
      ]
     },
     "metadata": {},
     "output_type": "display_data"
    },
    {
     "name": "stdout",
     "output_type": "stream",
     "text": [
      "[ 0 37 19 32 27 29 24 39 21 40 20 36 22 34 16  6 30 41 23 28 26 15 33 31 14\n",
      " 17 35 18 11  8  3  7  9 25  5  4 10 38 12 13  1  2]\n",
      "35\n"
     ]
    },
    {
     "data": {
      "image/png": "[encoded data removed]",
      "text/plain": [
       "<matplotlib.figure.Figure at 0x113ad8da0>"
      ]
     },
     "metadata": {},
     "output_type": "display_data"
    }
   ],
   "source": [
    "### Data exploration visualization\n",
    "import random\n",
    "import numpy as np\n",
    "import matplotlib.pyplot as plt\n",
    "# Visualizations will be shown in the notebook.\n",
    "%matplotlib inline\n",
    "\n",
    "# Convert rgb pictures to grayscale\n",
    "def rgb2gray(rgb):\n",
    "    return np.dot(rgb[...,:3], [0.299, 0.5870, 0.1140])\n",
    "\n",
    "hist, bounds = np.histogram(y_train, np.arange(n_classes))\n",
    "print(\"Histogram of available training road signs\")\n",
    "plt.bar(np.arange(n_classes - 1), hist)\n",
    "plt.show()\n",
    "\n",
    "min_hists = hist.argsort()\n",
    "print(min_hists)\n",
    "\n",
    "# convert the samples to grey-scale\n",
    "X_grey = rgb2gray(X_train)\n",
    "X_grey = np.reshape(X_grey, (-1, 32, 32, 1))\n",
    "index = random.randint(0, n_train)\n",
    "image = X_grey[index].squeeze()\n",
    "\n",
    "plt.figure(figsize=(1,1))\n",
    "plt.imshow(image, cmap=\"gray\")\n",
    "print(y_train[index])"
   ]
  },
  {
   "cell_type": "markdown",
   "metadata": {},
   "source": [
    "## Extra Step: Extend Training Set"
   ]
  },
  {
   "cell_type": "code",
   "execution_count": 4,
   "metadata": {
    "collapsed": false
   },
   "outputs": [
    {
     "name": "stdout",
     "output_type": "stream",
     "text": [
      "47129\n",
      "(47129, 32, 32, 1)\n"
     ]
    }
   ],
   "source": [
    "# find all images in training set whose lable is in the list above\n",
    "# 0 37 19 32 27 29 24 39 21 40\n",
    "# thse 10 classes were found to have the least number of training samples\n",
    "import cv2\n",
    "\n",
    "indices_0  = [i for i, x in enumerate(y_train) if x == 0]\n",
    "indices_19 = [i for i, x in enumerate(y_train) if x == 19]\n",
    "indices_21 = [i for i, x in enumerate(y_train) if x == 21]\n",
    "indices_24 = [i for i, x in enumerate(y_train) if x == 24]\n",
    "indices_27 = [i for i, x in enumerate(y_train) if x == 27]\n",
    "indices_29 = [i for i, x in enumerate(y_train) if x == 29]\n",
    "indices_32 = [i for i, x in enumerate(y_train) if x == 32]\n",
    "indices_37 = [i for i, x in enumerate(y_train) if x == 37]\n",
    "indices_39 = [i for i, x in enumerate(y_train) if x == 39]\n",
    "indices_40 = [i for i, x in enumerate(y_train) if x == 40]\n",
    "\n",
    "def extend_training(index, lable):\n",
    "    global X_grey, y_train\n",
    "    image = X_grey[index[:]].squeeze()\n",
    "    count = len(image)\n",
    "\n",
    "    for i in range(count):\n",
    "        resized_image = cv2.resize(image[i],(40, 40))\n",
    "        image = np.append(image, [resized_image[4:36,4:36]], axis=0)\n",
    "        y_train = np.append(y_train, [lable], axis=0)\n",
    "\n",
    "    rows,cols = 32,32\n",
    "    M5 = cv2.getRotationMatrix2D((cols/2,rows/2),5,1)\n",
    "    Mm5 = cv2.getRotationMatrix2D((cols/2,rows/2),-5,1)\n",
    "\n",
    "    for i in range(count):\n",
    "        rotated_5_image = cv2.warpAffine(image[i],M5,(cols,rows))\n",
    "        rotated_m5_image = cv2.warpAffine(image[i],Mm5,(cols,rows))\n",
    "        image = np.append(image, [rotated_5_image], axis=0)\n",
    "        y_train = np.append(y_train, [lable], axis=0)\n",
    "        image = np.append(image, [rotated_m5_image], axis=0)\n",
    "        y_train = np.append(y_train, [lable], axis=0)\n",
    "\n",
    "    image = image[count:,...]\n",
    "\n",
    "    X_grey = np.append(X_grey, np.reshape(image, (-1, 32, 32, 1)), axis=0)\n",
    "\n",
    "extend_training(indices_0 , 0 )\n",
    "extend_training(indices_19, 19)\n",
    "extend_training(indices_21, 21)\n",
    "extend_training(indices_24, 24)\n",
    "extend_training(indices_27, 27)\n",
    "extend_training(indices_29, 29)\n",
    "extend_training(indices_32, 32)\n",
    "extend_training(indices_37, 37)\n",
    "extend_training(indices_39, 39)\n",
    "extend_training(indices_40, 40)\n",
    "\n",
    "# normalize training set for the newly added elements. \n",
    "X_grey = (X_grey - 128)/128\n",
    "\n",
    "print(len(y_train))\n",
    "print(X_grey.shape)"
   ]
  },
  {
   "cell_type": "code",
   "execution_count": 5,
   "metadata": {
    "collapsed": false
   },
   "outputs": [
    {
     "name": "stdout",
     "output_type": "stream",
     "text": [
      "Histogram of available training road signs\n"
     ]
    },
    {
     "data": {
      "image/png": "[encoded data removed]",
      "text/plain": [
       "<matplotlib.figure.Figure at 0x10ea37b00>"
      ]
     },
     "metadata": {},
     "output_type": "display_data"
    }
   ],
   "source": [
    "hist, bounds = np.histogram(y_train, np.arange(n_classes))\n",
    "print(\"Histogram of available training road signs\")\n",
    "plt.bar(np.arange(n_classes - 1), hist)\n",
    "plt.show()\n"
   ]
  },
  {
   "cell_type": "markdown",
   "metadata": {},
   "source": [
    "## Step 2: Design and Test a Model Architecture"
   ]
  },
  {
   "cell_type": "code",
   "execution_count": 6,
   "metadata": {
    "collapsed": false
   },
   "outputs": [
    {
     "name": "stdout",
     "output_type": "stream",
     "text": [
      "Number of training examples = 37703\n",
      "Number of validation examples = 9426\n",
      "Number of testing examples = 12630\n"
     ]
    }
   ],
   "source": [
    "### Preprocess the data\n",
    "from sklearn.model_selection import train_test_split\n",
    "\n",
    "x_trn, x_val, y_trn, y_val = train_test_split(X_grey, y_train, test_size=0.2)\n",
    "\n",
    "# Number of training examples\n",
    "n_trn = len(x_trn)\n",
    "\n",
    "# Number of validation examples\n",
    "n_val = len(x_val)\n",
    "\n",
    "# Number of testing examples.\n",
    "n_test = len(X_test)\n",
    "\n",
    "print(\"Number of training examples =\", n_trn)\n",
    "print(\"Number of validation examples =\", n_val)\n",
    "print(\"Number of testing examples =\", n_test)"
   ]
  },
  {
   "cell_type": "code",
   "execution_count": 7,
   "metadata": {
    "collapsed": true
   },
   "outputs": [],
   "source": [
    "import tensorflow as tf\n",
    "from tensorflow.contrib.layers import flatten\n",
    "from sklearn.utils import shuffle\n",
    "\n",
    "EPOCHS = 10\n",
    "BATCH_SIZE = 128\n",
    "\n",
    "def LeNet(x):    \n",
    "    # Arguments used for tf.truncated_normal, randomly defines variables for the weights and biases for each layer\n",
    "    mu = 0\n",
    "    sigma = 0.1\n",
    "    \n",
    "    # Layer 1: Convolutional. Input = 32x32x1. Output = 28x28x6.\n",
    "    W_L1 = tf.Variable(tf.truncated_normal(shape=(5, 5, 1, 6), mean = mu, stddev = sigma))\n",
    "    b_L1 = tf.Variable(tf.zeros(6))\n",
    "    strides = [1, 1, 1, 1]\n",
    "    padding = 'VALID'\n",
    "    L1_out = tf.nn.conv2d(x, W_L1, strides, padding) + b_L1\n",
    "\n",
    "    # Activation.\n",
    "    L1_out = tf.tanh(L1_out)\n",
    "\n",
    "    # Pooling. Input = 28x28x6. Output = 14x14x6.\n",
    "    ksize = [1, 2, 2, 1]\n",
    "    strides = [1, 2, 2, 1]\n",
    "    padding = 'VALID'\n",
    "    P1_out = tf.nn.max_pool(L1_out, ksize, strides, padding)\n",
    "\n",
    "    # Layer 2: Convolutional. Input = 14x14x6. Output = 10x10x16.\n",
    "    W_L2 = tf.Variable(tf.truncated_normal(shape=(5, 5, 6, 16), mean = mu, stddev = sigma))\n",
    "    b_L2 = tf.Variable(tf.zeros(16))\n",
    "    strides = [1, 1, 1, 1]\n",
    "    padding = 'VALID'\n",
    "    L2_out = tf.nn.conv2d(P1_out, W_L2, strides, padding) + b_L2\n",
    "\n",
    "    # Activation.\n",
    "    L2_out = tf.tanh(L2_out)\n",
    "\n",
    "    # Pooling. Input = 10x10x16. Output = 5x5x16.\n",
    "    ksize = [1, 2, 2, 1]\n",
    "    strides = [1, 2, 2, 1]\n",
    "    padding = 'VALID'\n",
    "    P2_out = tf.nn.max_pool(L2_out, ksize, strides, padding)\n",
    "\n",
    "    # Flatten. Input = 5x5x16. Output = 400.\n",
    "    flat = flatten(P2_out)\n",
    "    \n",
    "    # Layer 3: Fully Connected. Input = 400. Output = 120.\n",
    "    W_L3 = tf.Variable(tf.truncated_normal(shape = (400, 120), mean = mu, stddev = sigma))\n",
    "    b_L3 = tf.Variable(tf.zeros(120))\n",
    "    L3_out = tf.add(tf.matmul(flat, W_L3), b_L3)\n",
    "    \n",
    "    # Activation.\n",
    "    L3_out = tf.tanh(L3_out)\n",
    "    L3_out = tf.nn.dropout(L3_out, keep_prob)\n",
    "\n",
    "    # Layer 4: Fully Connected. Input = 120. Output = 84.\n",
    "    W_L4 = tf.Variable(tf.truncated_normal(shape = (120, 84), mean = mu, stddev = sigma))\n",
    "    b_L4 = tf.Variable(tf.zeros(84))\n",
    "    L4_out = tf.add(tf.matmul(L3_out, W_L4), b_L4)\n",
    "    \n",
    "    # Activation.\n",
    "    L4_out = tf.tanh(L4_out)\n",
    "    L4_out = tf.nn.dropout(L4_out, keep_prob)\n",
    "\n",
    "    # Layer 5: Fully Connected. Input = 84. Output = 43.\n",
    "    W_L5 = tf.Variable(tf.truncated_normal(shape = (84, 43), mean = mu, stddev = sigma))\n",
    "    b_L5 = tf.Variable(tf.zeros(43))\n",
    "    logits = tf.add(tf.matmul(L4_out, W_L5), b_L5)\n",
    "    \n",
    "    return logits\n",
    "\n",
    "def evaluate(X_data, y_data):\n",
    "    num_examples = len(X_data)\n",
    "    total_accuracy = 0\n",
    "    sess = tf.get_default_session()\n",
    "    for offset in range(0, num_examples, BATCH_SIZE):\n",
    "        batch_x, batch_y = X_data[offset:offset+BATCH_SIZE], y_data[offset:offset+BATCH_SIZE]\n",
    "        accuracy = sess.run(accuracy_operation, feed_dict={x: batch_x, y: batch_y, keep_prob:1.0})\n",
    "        total_accuracy += (accuracy * len(batch_x))\n",
    "    return total_accuracy / num_examples\n"
   ]
  },
  {
   "cell_type": "code",
   "execution_count": 8,
   "metadata": {
    "collapsed": false
   },
   "outputs": [
    {
     "name": "stdout",
     "output_type": "stream",
     "text": [
      "Training...\n",
      "\n",
      "EPOCH 1 ...\n",
      "Validation Accuracy = 0.812\n",
      "\n",
      "EPOCH 2 ...\n",
      "Validation Accuracy = 0.902\n",
      "\n",
      "EPOCH 3 ...\n",
      "Validation Accuracy = 0.946\n",
      "\n",
      "EPOCH 4 ...\n",
      "Validation Accuracy = 0.963\n",
      "\n",
      "EPOCH 5 ...\n",
      "Validation Accuracy = 0.967\n",
      "\n",
      "EPOCH 6 ...\n",
      "Validation Accuracy = 0.974\n",
      "\n",
      "EPOCH 7 ...\n",
      "Validation Accuracy = 0.978\n",
      "\n",
      "EPOCH 8 ...\n",
      "Validation Accuracy = 0.979\n",
      "\n",
      "EPOCH 9 ...\n",
      "Validation Accuracy = 0.981\n",
      "\n",
      "EPOCH 10 ...\n",
      "Validation Accuracy = 0.984\n",
      "\n",
      "Model saved\n"
     ]
    }
   ],
   "source": [
    "x = tf.placeholder(tf.float32, (None, 32, 32, 1))\n",
    "y = tf.placeholder(tf.int32, (None))\n",
    "keep_prob = tf.placeholder(tf.float32) # probability to keep units in drop out\n",
    "one_hot_y = tf.one_hot(y, 43)\n",
    "\n",
    "rate = 0.001\n",
    "\n",
    "logits = LeNet(x)\n",
    "cross_entropy = tf.nn.softmax_cross_entropy_with_logits(logits, one_hot_y)\n",
    "loss_operation = tf.reduce_mean(cross_entropy)\n",
    "optimizer = tf.train.AdamOptimizer(learning_rate = rate)\n",
    "training_operation = optimizer.minimize(loss_operation)\n",
    "\n",
    "correct_prediction = tf.equal(tf.argmax(logits, 1), tf.argmax(one_hot_y, 1))\n",
    "accuracy_operation = tf.reduce_mean(tf.cast(correct_prediction, tf.float32))\n",
    "saver = tf.train.Saver()\n",
    "\n",
    "with tf.Session() as sess:\n",
    "    sess.run(tf.global_variables_initializer())\n",
    "    num_examples = n_trn\n",
    "    \n",
    "    print(\"Training...\")\n",
    "    print()\n",
    "    for i in range(EPOCHS):\n",
    "        x_trn, y_trn = shuffle(x_trn, y_trn)\n",
    "        for offset in range(0, num_examples, BATCH_SIZE):\n",
    "            end = offset + BATCH_SIZE\n",
    "            batch_x, batch_y = x_trn[offset:end], y_trn[offset:end]\n",
    "            sess.run(training_operation, feed_dict={x: batch_x, y: batch_y, keep_prob:0.6})\n",
    "            \n",
    "        validation_accuracy = evaluate(x_val, y_val)\n",
    "        print(\"EPOCH {} ...\".format(i+1))\n",
    "        print(\"Validation Accuracy = {:.3f}\".format(validation_accuracy))\n",
    "        print()\n",
    "        \n",
    "    saver.save(sess, './lenet')\n",
    "    print(\"Model saved\")\n"
   ]
  },
  {
   "cell_type": "markdown",
   "metadata": {},
   "source": [
    "---\n",
    "### Question 1 \n",
    "_Describe how you preprocessed the data. Why did you choose that technique?_\n",
    "\n",
    "### Answer\n",
    "I have 5 preprocessing steps:\n",
    "1. Convert color images to grayscale \n",
    "X_grey = rgb2gray(X_train)\n",
    "2. Adjust the shape of images to be (32, 32, 1) to be compatible with tensorflow\n",
    "X_grey = np.reshape(X_grey, (-1, 32, 32, 1))\n",
    "3. Added more data to the training set\n",
    "4. Normalize the training images by subtracting and deviding by 128.\n",
    "5. Using 'train_test_split' from 'sklearn.model_selection' split the training set into training and verification sets. This library also shuffles the output sets by default."
   ]
  },
  {
   "cell_type": "markdown",
   "metadata": {},
   "source": [
    "---\n",
    "### Question 2\n",
    "_Describe how you set up the training, validation and testing data for your model. Optional: If you generated additional data, how did you generate the data? Why did you generate the data? What are the differences in the new dataset (with generated data) from the original dataset?_\n",
    "\n",
    "### Answer\n",
    "The histogram suggest very uneven distribution of training data. I picked the 10 lables with smallest number of training images and augmented those.\n",
    "In order to generate new images, for each image with lable defined above I did:\n",
    "- Resized grey-scale image to be 40x40 and then removed 4 rows and columns from top, buttom, left and right of the image. This ensures the middle section of the image is zoomed, while keeping the original 32x32 size of the image.\n",
    "- Rotate the image once 5 and once -5 degrees.\n",
    "All in all, each image will have 3 other images in the training set.\n",
    "The input data to the program is training vs. test. I used train_test_split on the training data to split it for training and validation. The test data is ultimately used for testing purposes."
   ]
  },
  {
   "cell_type": "markdown",
   "metadata": {},
   "source": [
    "---\n",
    "### Question 3\n",
    "_What does your final architecture look like? (Type of model, layers, sizes, connectivity, etc.)  For reference on how to build a deep neural network using TensorFlow, see [Deep Neural Network in TensorFlow\n",
    "](https://classroom.udacity.com/nanodegrees/nd013/parts/fbf77062-5703-404e-b60c-95b78b2f3f9e/modules/6df7ae49-c61c-4bb2-a23e-6527e69209ec/lessons/b516a270-8600-4f93-a0a3-20dfeabe5da6/concepts/83a3a2a2-a9bd-4b7b-95b0-eb924ab14432) from the classroom._\n",
    "\n",
    "### Answer\n",
    "The architecture is very similar to the LeNet network introduced in the lesson. This is the breakdown of the architecture:\n",
    "* Layer 1: Convolutional layer. \n",
    " * Input=32x32x1. Filter size=5x5. Output=28x28x6. Valid Padding.\n",
    " * Activation: tanh\n",
    " * Max Pooling. Input=28x28x6. Filter Size=2x2. Output=14x14x6. Valid Padding.\n",
    "\n",
    "* Layer 2: Convolutional layer. \n",
    " * Input=14x14x6. Filter size=5x5. Output=10x10x16. Valid Padding.\n",
    " * Activation: tanh\n",
    " * Max Pooling. Input=10x10x16. Filter Size=2x2. Output=5x5x16. Valid Padding.\n",
    " * Flattening Layer: Input=5x5x16. Output=400.\n",
    "\n",
    "* Layer 3: Fully Connected.\n",
    " * Input=400. Output=120.\n",
    " * Activation: tanh\n",
    " * Dropout\n",
    "\n",
    "* Layer 4: Fully Connected.\n",
    " * Input=120. Output=84.\n",
    " * Activation: tanh\n",
    " * Dropout\n",
    "\n",
    "* Layer 5: Fully Connected.\n",
    " * Input=84. Output=43.\n"
   ]
  },
  {
   "cell_type": "markdown",
   "metadata": {},
   "source": [
    "---\n",
    "### Question 4\n",
    "_How did you train your model? (Type of optimizer, batch size, epochs, hyperparameters, etc.)_\n",
    "\n",
    "### Answer\n",
    "I used Adam optimizer with learning rate of 0.001. The training was done in 10 epochs with batch size of 128. Also, for training a drop out with probability of 0.4 was used (keep probability of 0.6)."
   ]
  },
  {
   "cell_type": "markdown",
   "metadata": {},
   "source": [
    "---\n",
    "### Question 5\n",
    "_What approach did you take in coming up with a solution to this problem? It may have been a process of trial and error, in which case, outline the steps you took to get to the final solution and why you chose those steps. Perhaps your solution involved an already well known implementation or architecture. In this case, discuss why you think this is suitable for the current problem._\n",
    "\n",
    "### Answer\n",
    "I used the LeNet architecture as the base for the model. I used tanh (instead of ReLU) activation and RGB to Gray scale from the paper referred to in the description of the project.\n",
    "Drop out probability of 0.3 was found based on trial and error. Number of epochs and batch sizes was not changed from the default value.\n",
    "I also tried the average pooling instead of max pooling but the result was worst.\n",
    "I also found out that applying drop out to all levels of the model is a very bad idea, so it was just used in the fully connected layers.\n",
    "I also figured out that normalization improves the accuracy (hinted in the paper as well)."
   ]
  },
  {
   "cell_type": "markdown",
   "metadata": {},
   "source": [
    "## Step 3: Test a Model on New Images"
   ]
  },
  {
   "cell_type": "code",
   "execution_count": 9,
   "metadata": {
    "collapsed": false
   },
   "outputs": [
    {
     "name": "stdout",
     "output_type": "stream",
     "text": [
      "Histogram of test samples\n"
     ]
    },
    {
     "data": {
      "image/png": "[encoded data removed]",
      "text/plain": [
       "<matplotlib.figure.Figure at 0x113ad8e10>"
      ]
     },
     "metadata": {},
     "output_type": "display_data"
    },
    {
     "name": "stdout",
     "output_type": "stream",
     "text": [
      "Test Accuracy = 0.935\n"
     ]
    }
   ],
   "source": [
    "### Load the images and plot them here.\n",
    "### Feel free to use as many code cells as needed.\n",
    "\n",
    "# convert the test samples to grey-scale\n",
    "X_grey_test = rgb2gray(X_test)\n",
    "\n",
    "# normalize the test samples\n",
    "X_grey_test = (X_grey_test - 128)/128\n",
    "X_grey_test = np.reshape(X_grey_test, (-1, 32, 32, 1))\n",
    "\n",
    "# draw the histogram of the test samples\n",
    "hist, bounds = np.histogram(y_test, np.arange(n_classes))\n",
    "print(\"Histogram of test samples\")\n",
    "plt.bar(np.arange(n_classes - 1), hist)\n",
    "plt.show()\n",
    "\n",
    "with tf.Session() as sess:\n",
    "    saver.restore(sess, tf.train.latest_checkpoint('.'))\n",
    "\n",
    "    test_accuracy = evaluate(X_grey_test, y_test)\n",
    "    print(\"Test Accuracy = {:.3f}\".format(test_accuracy))"
   ]
  },
  {
   "cell_type": "markdown",
   "metadata": {},
   "source": [
    "---\n",
    "### Question 6\n",
    "_Choose five candidate images of traffic signs and provide them in the report. Are there any particular qualities of the image(s) that might make classification difficult? It could be helpful to plot the images in the notebook._\n",
    "\n",
    "### Answer\n",
    "I have fixed the indexes for a deterministic output. They were generated randomly the first time.\n",
    "Looking at the images we can see that sun glare, lens out-of-focus and the low resolution of the images might make it hard for the classifier to distinguish between the signs. Most importantly because such features might not be present in the training set."
   ]
  },
  {
   "cell_type": "code",
   "execution_count": 10,
   "metadata": {
    "collapsed": false
   },
   "outputs": [
    {
     "data": {
      "image/png": "[encoded data removed]",
      "text/plain": [
       "<matplotlib.figure.Figure at 0x11acbdc88>"
      ]
     },
     "metadata": {},
     "output_type": "display_data"
    }
   ],
   "source": [
    "ax = []\n",
    "f, ax = plt.subplots(1, 5, sharey=True, figsize=(10,2))\n",
    "cnt = 0\n",
    "for index in [4084, 6562, 5185, 10237, 9305]:\n",
    "    image = X_grey_test[index].squeeze()\n",
    "    ax[cnt].imshow(image, cmap=\"gray\")\n",
    "    cnt += 1"
   ]
  },
  {
   "cell_type": "markdown",
   "metadata": {},
   "source": [
    "---\n",
    "### Question 7\n",
    "_Is your model able to perform equally well on captured pictures when compared to testing on the dataset? The simplest way to do this check the accuracy of the predictions. For example, if the model predicted 1 out of 5 signs correctly, it's 20% accurate._\n",
    "\n",
    "### Answer\n",
    "Looking at the output of the following code, only one of the detections is correct. So the accuracy in this case is only 20%"
   ]
  },
  {
   "cell_type": "code",
   "execution_count": 11,
   "metadata": {
    "collapsed": false
   },
   "outputs": [
    {
     "name": "stdout",
     "output_type": "stream",
     "text": [
      "classified as: 19 correct class: 21\n",
      "classified as: 33 correct class: 26\n",
      "classified as: 1 correct class: 27\n",
      "classified as: 23 correct class: 30\n",
      "classified as: 32 correct class: 32\n"
     ]
    },
    {
     "data": {
      "image/png": "[encoded data removed]",
      "text/plain": [
       "<matplotlib.figure.Figure at 0x110d447b8>"
      ]
     },
     "metadata": {},
     "output_type": "display_data"
    },
    {
     "data": {
      "image/png": "[encoded data removed]",
      "text/plain": [
       "<matplotlib.figure.Figure at 0x1074aa908>"
      ]
     },
     "metadata": {},
     "output_type": "display_data"
    }
   ],
   "source": [
    "import matplotlib.image as mpimg\n",
    "\n",
    "def image_transform(image):\n",
    "    temp = rgb2gray(image)\n",
    "    temp = (temp - 128)/128\n",
    "    temp = np.reshape(temp, (-1, 32, 32, 1))\n",
    "    temp = temp.astype(np.float32)\n",
    "    return temp\n",
    "\n",
    "images0 = image_transform(mpimg.imread('test_double_curve_21.png'))\n",
    "images1 = image_transform(mpimg.imread('test_traffic_signal_26.jpg'))\n",
    "images2 = image_transform(mpimg.imread('test_pedestrians_27.jpg'))\n",
    "images3 = image_transform(mpimg.imread('test_beware_ice_snow_30.jpg'))\n",
    "images4 = image_transform(mpimg.imread('test_all_limits_32.jpeg'))\n",
    "\n",
    "classes0 = 21\n",
    "classes1 = 26\n",
    "classes2 = 27\n",
    "classes3 = 30\n",
    "classes4 = 32\n",
    "\n",
    "f, ax = plt.subplots(1, 5, sharey=True, figsize=(10,2))\n",
    "f.suptitle(\"Test images\")\n",
    "ax[0].imshow(images0.squeeze(), cmap=\"gray\")\n",
    "ax[1].imshow(images1.squeeze(), cmap=\"gray\")\n",
    "ax[2].imshow(images2.squeeze(), cmap=\"gray\")\n",
    "ax[3].imshow(images3.squeeze(), cmap=\"gray\")\n",
    "ax[4].imshow(images4.squeeze(), cmap=\"gray\")\n",
    "\n",
    "with tf.Session() as sess:\n",
    "    saver.restore(sess, tf.train.latest_checkpoint('.'))\n",
    "    \n",
    "    detected_class = sess.run(tf.argmax(logits, 1), feed_dict={x:images0, keep_prob:1})\n",
    "    print(\"classified as:\", detected_class[0], \"correct class:\", classes0)\n",
    "    index = np.where(y_train == detected_class[0])[0][0]\n",
    "    image_sample0 = X_grey[index].squeeze()\n",
    "    \n",
    "    detected_class = sess.run(tf.argmax(logits, 1), feed_dict={x:images1, keep_prob:1})\n",
    "    print(\"classified as:\", detected_class[0], \"correct class:\", classes1)\n",
    "    index = np.where(y_train == detected_class[0])[0][0]\n",
    "    image_sample1 = X_grey[index].squeeze()\n",
    "        \n",
    "    detected_class = sess.run(tf.argmax(logits, 1), feed_dict={x:images2, keep_prob:1})\n",
    "    print(\"classified as:\", detected_class[0], \"correct class:\", classes2)\n",
    "    index = np.where(y_train == detected_class[0])[0][0]\n",
    "    image_sample2 = X_grey[index].squeeze()\n",
    "        \n",
    "    detected_class = sess.run(tf.argmax(logits, 1), feed_dict={x:images3, keep_prob:1})\n",
    "    print(\"classified as:\", detected_class[0], \"correct class:\", classes3)\n",
    "    index = np.where(y_train == detected_class[0])[0][0]\n",
    "    image_sample3 = X_grey[index].squeeze()\n",
    "    \n",
    "    detected_class = sess.run(tf.argmax(logits, 1), feed_dict={x:images4, keep_prob:1})\n",
    "    print(\"classified as:\", detected_class[0], \"correct class:\", classes4)\n",
    "    index = np.where(y_train == detected_class[0])[0][0]\n",
    "    image_sample4 = X_grey[index].squeeze()        \n",
    "\n",
    "    f, ax = plt.subplots(1, 5, sharey=True, figsize=(10,2))\n",
    "    f.suptitle(\"Sample images of what has been detected\")\n",
    "    ax[0].imshow(image_sample0.squeeze(), cmap=\"gray\")\n",
    "    ax[1].imshow(image_sample1.squeeze(), cmap=\"gray\")\n",
    "    ax[2].imshow(image_sample2.squeeze(), cmap=\"gray\")\n",
    "    ax[3].imshow(image_sample3.squeeze(), cmap=\"gray\")\n",
    "    ax[4].imshow(image_sample4.squeeze(), cmap=\"gray\")\n"
   ]
  },
  {
   "cell_type": "markdown",
   "metadata": {},
   "source": [
    "---\n",
    "### Question 8\n",
    "*Use the model's softmax probabilities to visualize the **certainty** of its predictions, [`tf.nn.top_k`](https://www.tensorflow.org/versions/r0.12/api_docs/python/nn.html#top_k) could prove helpful here. Which predictions is the model certain of? Uncertain? If the model was incorrect in its initial prediction, does the correct prediction appear in the top k? (k should be 5 at most)*\n",
    "\n",
    "### Answer\n",
    "Code below runs the prediction, finds the softmax of the output, outputs the top 5 probabilities and indexes along with the correct class index."
   ]
  },
  {
   "cell_type": "code",
   "execution_count": 12,
   "metadata": {
    "collapsed": false
   },
   "outputs": [
    {
     "name": "stdout",
     "output_type": "stream",
     "text": [
      "Top 5 Probability values: [ 0.11601139  0.11243756  0.09580778  0.08852546  0.07446486]\n",
      "Top 5 Corresponding Classes: [19 10 11  9 30]\n",
      "Correct value 21\n",
      "Top 5 Probability values: [ 0.62218744  0.22625309  0.06887791  0.04811915  0.00974385]\n",
      "Top 5 Corresponding Classes: [33 17 18 40 34]\n",
      "Correct value 26\n",
      "Top 5 Probability values: [ 0.85820448  0.06446153  0.03235108  0.03171799  0.00347863]\n",
      "Top 5 Corresponding Classes: [ 1 40  4  5 25]\n",
      "Correct value 27\n",
      "Top 5 Probability values: [ 0.78636009  0.10001996  0.05467209  0.01517822  0.01213731]\n",
      "Top 5 Corresponding Classes: [23 28 41 20 30]\n",
      "Correct value 30\n",
      "Top 5 Probability values: [  9.97221231e-01   2.25781696e-03   3.99308658e-04   4.02664846e-05\n",
      "   1.94855311e-05]\n",
      "Top 5 Corresponding Classes: [32  6 41  0 40]\n",
      "Correct value 32\n"
     ]
    }
   ],
   "source": [
    "with tf.Session() as sess:\n",
    "    saver.restore(sess, tf.train.latest_checkpoint('.'))\n",
    "    find_top_k = tf.nn.top_k(tf.nn.softmax(logits), k = 5)\n",
    "    \n",
    "    softout = sess.run(find_top_k, feed_dict={x:images0, keep_prob:1})\n",
    "    print(\"Top 5 Probability values:\",softout.values[0])\n",
    "    print(\"Top 5 Corresponding Classes:\",softout.indices[0])\n",
    "    print(\"Correct value\", classes0)\n",
    "\n",
    "    softout = sess.run(find_top_k, feed_dict={x:images1, keep_prob:1})\n",
    "    print(\"Top 5 Probability values:\",softout.values[0])\n",
    "    print(\"Top 5 Corresponding Classes:\",softout.indices[0])\n",
    "    print(\"Correct value\", classes1)\n",
    "\n",
    "    softout = sess.run(find_top_k, feed_dict={x:images2, keep_prob:1})\n",
    "    print(\"Top 5 Probability values:\",softout.values[0])\n",
    "    print(\"Top 5 Corresponding Classes:\",softout.indices[0])\n",
    "    print(\"Correct value\", classes2)\n",
    "\n",
    "    softout = sess.run(find_top_k, feed_dict={x:images3, keep_prob:1})\n",
    "    print(\"Top 5 Probability values:\",softout.values[0])\n",
    "    print(\"Top 5 Corresponding Classes:\",softout.indices[0])\n",
    "    print(\"Correct value\", classes3)\n",
    "\n",
    "    softout = sess.run(find_top_k, feed_dict={x:images4, keep_prob:1})\n",
    "    print(\"Top 5 Probability values:\",softout.values[0])\n",
    "    print(\"Top 5 Corresponding Classes:\",softout.indices[0])\n",
    "    print(\"Correct value\", classes4)\n"
   ]
  },
  {
   "cell_type": "markdown",
   "metadata": {
    "collapsed": true
   },
   "source": [
    "## Step 4: Model analysis on test samples"
   ]
  },
  {
   "cell_type": "code",
   "execution_count": 13,
   "metadata": {
    "collapsed": false
   },
   "outputs": [
    {
     "name": "stdout",
     "output_type": "stream",
     "text": [
      "smallest_5_precision_idx [27 32 40 22 24]\n",
      "smallest_5_recall_idx [27 30 41  6 18]\n",
      "smallest_5_fscore_idx [27 32 22 30 40]\n"
     ]
    },
    {
     "data": {
      "image/png": "[encoded data removed]",
      "text/plain": [
       "<matplotlib.figure.Figure at 0x110c9b0f0>"
      ]
     },
     "metadata": {},
     "output_type": "display_data"
    }
   ],
   "source": [
    "from sklearn.metrics import precision_recall_fscore_support\n",
    "\n",
    "# convert the test samples to grey-scale\n",
    "X_grey_test = rgb2gray(X_test)\n",
    "\n",
    "# normalize the test samples\n",
    "X_grey_test = (X_grey_test - 128)/128\n",
    "X_grey_test = np.reshape(X_grey_test, (-1, 32, 32, 1))\n",
    "\n",
    "with tf.Session() as sess:\n",
    "    saver.restore(sess, tf.train.latest_checkpoint('.'))\n",
    "    \n",
    "    y_pred = sess.run(tf.argmax(logits, 1), feed_dict={x:X_grey_test, keep_prob:1})\n",
    "    output = precision_recall_fscore_support(y_test, y_pred)\n",
    "    precision = output[0]\n",
    "    recall = output[1]\n",
    "    fscore = output[2]\n",
    "    \n",
    "    fig, ax = plt.subplots(1,3, figsize=(20,5))\n",
    "    ax[0].bar(np.arange(n_classes), precision)\n",
    "    ax[0].set_title(\"Precision\")\n",
    "\n",
    "    ax[1].bar(np.arange(n_classes), recall)\n",
    "    ax[1].set_title(\"Recall\")\n",
    "\n",
    "    ax[2].bar(np.arange(n_classes), fscore)\n",
    "    ax[2].set_title(\"f-Score\")\n",
    "    \n",
    "    smallest_5_precision_idx = precision.argsort()\n",
    "    smallest_5_recall_idx = recall.argsort()\n",
    "    smallest_5_fscore_idx = fscore.argsort()\n",
    "    print(\"smallest_5_precision_idx\", smallest_5_precision_idx[0:5])\n",
    "    print(\"smallest_5_recall_idx\", smallest_5_recall_idx[0:5])\n",
    "    print(\"smallest_5_fscore_idx\", smallest_5_fscore_idx[0:5])\n"
   ]
  }
 ],
 "metadata": {
  "kernelspec": {
   "display_name": "Python 3",
   "language": "python",
   "name": "python3"
  },
  "language_info": {
   "codemirror_mode": {
    "name": "ipython",
    "version": 3
   },
   "file_extension": ".py",
   "mimetype": "text/x-python",
   "name": "python",
   "nbconvert_exporter": "python",
   "pygments_lexer": "ipython3",
   "version": "3.5.2"
  },
  "widgets": {
   "state": {},
   "version": "1.1.2"
  }
 },
 "nbformat": 4,
 "nbformat_minor": 1
}
